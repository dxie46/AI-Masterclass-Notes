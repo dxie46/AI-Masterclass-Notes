{
 "cells": [
  {
   "cell_type": "code",
   "execution_count": null,
   "id": "4e696082",
   "metadata": {},
   "outputs": [],
   "source": [
    "**Section 1**\n",
    "Hybrid models - combines different AI models together\n",
    "* CNN, MDN, GA, VAE, RNN, ES\n",
    "* Very powerful but computationally expensive to train\n",
    "worldmodels.github.io"
   ]
  },
  {
   "cell_type": "code",
   "execution_count": null,
   "id": "b63ee615",
   "metadata": {},
   "outputs": [],
   "source": []
  }
 ],
 "metadata": {
  "kernelspec": {
   "display_name": "Python 3",
   "language": "python",
   "name": "python3"
  },
  "language_info": {
   "codemirror_mode": {
    "name": "ipython",
    "version": 3
   },
   "file_extension": ".py",
   "mimetype": "text/x-python",
   "name": "python",
   "nbconvert_exporter": "python",
   "pygments_lexer": "ipython3",
   "version": "3.8.8"
  }
 },
 "nbformat": 4,
 "nbformat_minor": 5
}
